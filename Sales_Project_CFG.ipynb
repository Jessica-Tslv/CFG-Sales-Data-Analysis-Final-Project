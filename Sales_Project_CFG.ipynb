# # # 1). Read the data from the spreadsheet
import csv
import io
import pandas as pd
import seaborn as sns
import matplotlib.pyplot as plt

def read_sales_csv():
  sales_csv = []
  with open('sales.csv', 'r') as sales_csv_file:
    spreadsheet = csv.DictReader(sales_csv_file)
    for row in spreadsheet:
      sales_csv.append(row)
    return sales_csv
print(read_sales_csv())

print('')
print(40*'-')
print('')

# # # 2). Collect all of the sales from each month into a single list

def task_2_and_3():
  sales_data = read_sales_csv()
  sales_amounts = []
  print('Monthly sales amount: ')
  for row in sales_data:
    mth = (row['month']).title()
    year = (row['year'])
    sale =int(row['sales'])
    sales_amounts.append(sale)
    print(mth, year, '£{:.2f}'.format(sale))

  print('')
  print(40*'-')
  print('')

  total = sum(sales_amounts)
  print('Total sales: £{:.2f}'.format(total))

task_2_and_3()

# #4)calculating sales min, max and average

sales_data = read_sales_csv()
sales = [int(row['sales']) for row in sales_data]

min_sales = min(sales)
max_sales = max(sales)
avg_sales = sum(sales) / len(sales)

print("Minimum sales: £{:.2f}".format(min_sales))
print("Maximum sales: £{:.2f}".format(max_sales))
print("Average sales: £{:.2f}".format(avg_sales))

# #5) calculating total profit

sales_data = read_sales_csv()
sales = [int(row['sales']) for row in sales_data]
expenditure = [int(row['expenditure']) for row in sales_data]
total_profit = sum(sales) - sum(expenditure)
print("Total profit: £{:.2f}".format(total_profit))

print('')
print(40*'-')
print('')

# # 6) calculating monthly profit

sales_data = read_sales_csv()
expenses_data = [{'expenses': row['expenditure']} for row in sales_data] # Creating expenses_data from sales_data
monthly_profit = []

profit_per_month = [{'monthly profit '+ row['month']: int(row['sales']) - int(row['expenditure'])} for row in sales_data]
print(profit_per_month)

print('')
print(40*'-')
print('')

# Adding a function to output data to a new file

content_to_output = "Minimum sales: £{:.2f} \nMaximum sales: £{:.2f}\nAverage sales: £{:.2f}\nTotal profit: £{:.2f}".format(min_sales, max_sales, avg_sales, total_profit)

def function_to_output_to_file(file_path, content_to_output):
    """
    Funtion to output content/text to a file
    """
    with open(file_path, 'w') as file:
        # Write the content_to_output to the file
        file.write(content_to_output)
    return print("File {} was created successfully.".format(file_path))

function_to_output_to_file(file_path="test-output.txt", content_to_output=content_to_output)

print('')
print(40*'-')
print('')

#added monthly_profit_df line and percentage

for sales_row, expenses_row in zip(sales_data, expenses_data):
  profit = int(sales_row['sales']) - int(expenses_row['expenses'])
  percentage = round((profit / int(sales_row['sales'])) * 100, 2)
  monthly_profit.append({'month': sales_row['month'], 'profit': profit, '%': percentage})
monthly_profit_df = pd.DataFrame(monthly_profit)
print("Monthly profit and monthly percentage shown bellow: \n", monthly_profit_df)

print('')
print(40*'-')
print('')

#------------------------------------------------------------------------------------------------------

# Create a pivot table for heatmap
heatmap_data = monthly_profit_df.set_index('month')[['profit']].transpose()
# print(heatmap_data)

# Plot heatmap
plt.figure(figsize=(16, 6))
sns.heatmap(heatmap_data, annot=True, cmap="coolwarm", fmt='.2f', cbar=True, center=0)

plt.title('Heatmap of Profit and Percentage Change')
plt.show()

#------------------------------------------------------------------------------------------------------

# Create a bar plot for profit
plt.figure(figsize=(10, 6))
sns.barplot(x='month', y='profit', data=monthly_profit_df, palette='viridis', hue='profit')

# Customize the plot
plt.title('Monthly Profit')
plt.ylabel('Profit')
plt.xlabel('Month')
plt.grid(True)

# Show the plot
plt.show()

